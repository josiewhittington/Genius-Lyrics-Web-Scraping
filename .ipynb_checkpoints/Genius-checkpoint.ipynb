{
 "cells": [
  {
   "cell_type": "code",
   "execution_count": 1,
   "id": "dd530fad-9f9f-4198-a4c2-e2316ea9b879",
   "metadata": {},
   "outputs": [],
   "source": [
    "import requests\n",
    "from bs4 import BeautifulSoup"
   ]
  },
  {
   "cell_type": "code",
   "execution_count": 2,
   "id": "40d81d41-e416-461a-b593-23982db18bb2",
   "metadata": {},
   "outputs": [],
   "source": [
    "def find_about(url):\n",
    "    response = requests.get(url)\n",
    "    # Return None if you get any error (200 means successful request)\n",
    "    if response.status_code != 200:\n",
    "        return None\n",
    "\n",
    "    soup = BeautifulSoup(response.text, 'html.parser')\n",
    "\n",
    "    # About section classes start with \"RichText__Container-oz284w-0\"\n",
    "    about_section = soup.find_all('div', class_='RichText__Container-oz284w-0')\n",
    "    \n",
    "    # Getting the text from the about sections \n",
    "    if about_section:\n",
    "        text = about_section[0].get_text(strip=True)\n",
    "    else:\n",
    "        text = None\n",
    "    \n",
    "    return text"
   ]
  },
  {
   "cell_type": "code",
   "execution_count": 3,
   "id": "8612f0cd-3265-4bc9-9905-c440861c58ac",
   "metadata": {},
   "outputs": [
    {
     "name": "stdin",
     "output_type": "stream",
     "text": [
      "Enter the artist's name:  one direction\n",
      "Enter the song name:  night changes\n"
     ]
    },
    {
     "name": "stdout",
     "output_type": "stream",
     "text": [
      "About Section:\n",
      "\n",
      "“Night Changes” is the seventh song and second single from One Direction’s fourth studio album,Four.The song was announced as the second single on the 29th October 2014 but due to an entire album leak fans got to hear the song on the 7th of November. It is the last single 1D released with Zayn still in the band.“Night Changes” is a melodic, soulful track with undertones of nostalgia and backing harmonies to match.\n"
     ]
    }
   ],
   "source": [
    "def main():\n",
    "    artist = input(\"Enter the artist's name: \").strip()\n",
    "    song = input(\"Enter the song name: \").strip()\n",
    "    \n",
    "    # Change format to fit HTML\n",
    "    format_artist = artist.lower().replace(\" \", \"-\")\n",
    "    format_song = song.lower().replace(\" \", \"-\")\n",
    "    url = f\"https://genius.com/{format_artist}-{format_song}-lyrics\"\n",
    "    \n",
    "    text = find_about(url)\n",
    "\n",
    "    if text:\n",
    "        print(f\"About Section:\\n\\n{text}\")\n",
    "    else:\n",
    "        print(\"The 'About' section could not be found. Please try again\")\n",
    "\n",
    "if __name__ == \"__main__\":\n",
    "    main()\n"
   ]
  }
 ],
 "metadata": {
  "kernelspec": {
   "display_name": "Python 3 (ipykernel)",
   "language": "python",
   "name": "python3"
  },
  "language_info": {
   "codemirror_mode": {
    "name": "ipython",
    "version": 3
   },
   "file_extension": ".py",
   "mimetype": "text/x-python",
   "name": "python",
   "nbconvert_exporter": "python",
   "pygments_lexer": "ipython3",
   "version": "3.10.9"
  }
 },
 "nbformat": 4,
 "nbformat_minor": 5
}
