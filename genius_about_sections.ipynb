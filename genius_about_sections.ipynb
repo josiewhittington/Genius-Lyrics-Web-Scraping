{
 "cells": [
  {
   "cell_type": "markdown",
   "id": "544956c5",
   "metadata": {},
   "source": [
    "# Genius Lyrics About Section\n",
    "##### Web scraping the about sections from Genius Lyrics for artists' most popular songs"
   ]
  },
  {
   "cell_type": "markdown",
   "id": "cf54b948",
   "metadata": {},
   "source": [
    "### Import Statements"
   ]
  },
  {
   "cell_type": "code",
   "execution_count": 1,
   "id": "ba653d4f",
   "metadata": {},
   "outputs": [],
   "source": [
    "import requests\n",
    "from bs4 import BeautifulSoup\n",
    "import pandas as pd"
   ]
  },
  {
   "cell_type": "markdown",
   "id": "a5faa70c",
   "metadata": {},
   "source": [
    "### Function to scrape the 'About' section for songs"
   ]
  },
  {
   "cell_type": "code",
   "execution_count": 2,
   "id": "40d81d41-e416-461a-b593-23982db18bb2",
   "metadata": {},
   "outputs": [],
   "source": [
    "def find_about(url):\n",
    "    response = requests.get(url)\n",
    "    # Return None if you get any error (200 means successful request)\n",
    "    if response.status_code != 200:\n",
    "        return None\n",
    "\n",
    "    soup = BeautifulSoup(response.text, 'html.parser')\n",
    "    # About section classes start with \"RichText__Container-oz284w-0\"\n",
    "    about_section = soup.find_all('div', class_='RichText__Container-oz284w-0')\n",
    "    \n",
    "    # Getting the text from the about sections \n",
    "    if about_section:\n",
    "        text = about_section[0].get_text(strip=True)\n",
    "    else:\n",
    "        text = None\n",
    "    \n",
    "    return text"
   ]
  },
  {
   "cell_type": "markdown",
   "id": "ff005503",
   "metadata": {},
   "source": [
    "### Function to find an artist's most popular songs"
   ]
  },
  {
   "cell_type": "code",
   "execution_count": 3,
   "metadata": {},
   "outputs": [],
   "source": [
    "def song_names(artist):\n",
    "    format_artist = artist.lower().replace(\" \", \"-\")\n",
    "    url_artist = f\"https://genius.com/artists/{format_artist}\"\n",
    "    song_list = []\n",
    "    response = requests.get(url_artist)\n",
    "    \n",
    "    # Return None if you get any error (200 means successful request)\n",
    "    if response.status_code != 200:\n",
    "        return None\n",
    "\n",
    "    soup = BeautifulSoup(response.text, 'html.parser')\n",
    "        # About section classes are titled \"mini_card-title\"\n",
    "    song_titles = soup.find_all('div', class_='mini_card-title', limit=11)\n",
    "    \n",
    "    for title in song_titles:\n",
    "        song_text = title.get_text(strip=True)\n",
    "        song_list.append({\"song\": song_text, \"artist\": artist.lower()})\n",
    "    \n",
    "    return song_list"
   ]
  },
  {
   "cell_type": "markdown",
   "id": "c06fafdd",
   "metadata": {},
   "source": [
    "### Running the code"
   ]
  },
  {
   "cell_type": "code",
   "execution_count": 4,
   "id": "8612f0cd-3265-4bc9-9905-c440861c58ac",
   "metadata": {},
   "outputs": [
    {
     "ename": "ValueError",
     "evalue": "invalid literal for int() with base 10: ''",
     "output_type": "error",
     "traceback": [
      "\u001b[0;31m---------------------------------------------------------------------------\u001b[0m",
      "\u001b[0;31mValueError\u001b[0m                                Traceback (most recent call last)",
      "\u001b[1;32m/Users/josiewhittington/Desktop/data science/Genius Lyrics/genius_about_sections.ipynb Cell 5\u001b[0m line \u001b[0;36m3\n\u001b[1;32m     <a href='vscode-notebook-cell:/Users/josiewhittington/Desktop/data%20science/Genius%20Lyrics/genius_about_sections.ipynb#W3sZmlsZQ%3D%3D?line=32'>33</a>\u001b[0m     df\u001b[39m.\u001b[39mto_csv(\u001b[39m'\u001b[39m\u001b[39msong_information.csv\u001b[39m\u001b[39m'\u001b[39m, index\u001b[39m=\u001b[39m\u001b[39mFalse\u001b[39;00m, encoding\u001b[39m=\u001b[39m\u001b[39m'\u001b[39m\u001b[39mutf-8\u001b[39m\u001b[39m'\u001b[39m)\n\u001b[1;32m     <a href='vscode-notebook-cell:/Users/josiewhittington/Desktop/data%20science/Genius%20Lyrics/genius_about_sections.ipynb#W3sZmlsZQ%3D%3D?line=34'>35</a>\u001b[0m \u001b[39mif\u001b[39;00m \u001b[39m__name__\u001b[39m \u001b[39m==\u001b[39m \u001b[39m\"\u001b[39m\u001b[39m__main__\u001b[39m\u001b[39m\"\u001b[39m:\n\u001b[0;32m---> <a href='vscode-notebook-cell:/Users/josiewhittington/Desktop/data%20science/Genius%20Lyrics/genius_about_sections.ipynb#W3sZmlsZQ%3D%3D?line=35'>36</a>\u001b[0m     main()\n",
      "\u001b[1;32m/Users/josiewhittington/Desktop/data science/Genius Lyrics/genius_about_sections.ipynb Cell 5\u001b[0m line \u001b[0;36m2\n\u001b[1;32m      <a href='vscode-notebook-cell:/Users/josiewhittington/Desktop/data%20science/Genius%20Lyrics/genius_about_sections.ipynb#W3sZmlsZQ%3D%3D?line=0'>1</a>\u001b[0m \u001b[39mdef\u001b[39;00m \u001b[39mmain\u001b[39m():\n\u001b[0;32m----> <a href='vscode-notebook-cell:/Users/josiewhittington/Desktop/data%20science/Genius%20Lyrics/genius_about_sections.ipynb#W3sZmlsZQ%3D%3D?line=1'>2</a>\u001b[0m     count \u001b[39m=\u001b[39m \u001b[39mint\u001b[39;49m(\u001b[39minput\u001b[39;49m(\u001b[39m\"\u001b[39;49m\u001b[39mHow many artists would you like to learn about? \u001b[39;49m\u001b[39m\"\u001b[39;49m))\n\u001b[1;32m      <a href='vscode-notebook-cell:/Users/josiewhittington/Desktop/data%20science/Genius%20Lyrics/genius_about_sections.ipynb#W3sZmlsZQ%3D%3D?line=2'>3</a>\u001b[0m     data \u001b[39m=\u001b[39m [] \n\u001b[1;32m      <a href='vscode-notebook-cell:/Users/josiewhittington/Desktop/data%20science/Genius%20Lyrics/genius_about_sections.ipynb#W3sZmlsZQ%3D%3D?line=4'>5</a>\u001b[0m     \u001b[39mfor\u001b[39;00m _ \u001b[39min\u001b[39;00m \u001b[39mrange\u001b[39m(count):\n",
      "\u001b[0;31mValueError\u001b[0m: invalid literal for int() with base 10: ''"
     ]
    }
   ],
   "source": [
    "def main():\n",
    "    count = int(input(\"How many artists would you like to learn about? \"))\n",
    "    data = [] \n",
    "\n",
    "    for _ in range(count):\n",
    "        artist = input(\"Enter the artist's name: \").strip()\n",
    "        top_songs = song_names(artist)\n",
    "\n",
    "        if top_songs is None:\n",
    "            print(f\"Could not retrieve songs for {artist}.\")\n",
    "            continue\n",
    "\n",
    "        for song_info in top_songs:\n",
    "            format_artist = song_info['artist'].replace(\" \", \"-\")\n",
    "            format_song = song_info['song'].lower().replace(\" \", \"-\")\n",
    "            url = f\"https://genius.com/{format_artist}-{format_song}-lyrics\"\n",
    "            \n",
    "            text = find_about(url)\n",
    "\n",
    "            if text is None:\n",
    "                print(f\"The 'About' section for '{song_info['song']}' by '{artist}' could not be found.\")\n",
    "            else:\n",
    "                data.append({\n",
    "                    \"artist\": artist.capitalize(),\n",
    "                    \"song\": song_info['song'].capitalize(),\n",
    "                    \"about\": text\n",
    "                })\n",
    "    \n",
    "    # Create DataFrame and export as CSV\n",
    "    df = pd.DataFrame(data)\n",
    "    df = df.sort_values(by=['artist', 'song'])\n",
    "    print(df)\n",
    "    df.to_csv('song_information.csv', index=False, encoding='utf-8')\n",
    "\n",
    "if __name__ == \"__main__\":\n",
    "    main()"
   ]
  },
  {
   "cell_type": "code",
   "execution_count": null,
   "id": "c79cf71d",
   "metadata": {},
   "outputs": [],
   "source": []
  }
 ],
 "metadata": {
  "kernelspec": {
   "display_name": "Python 3",
   "language": "python",
   "name": "python3"
  },
  "language_info": {
   "codemirror_mode": {
    "name": "ipython",
    "version": 3
   },
   "file_extension": ".py",
   "mimetype": "text/x-python",
   "name": "python",
   "nbconvert_exporter": "python",
   "pygments_lexer": "ipython3",
   "version": "3.11.5"
  }
 },
 "nbformat": 4,
 "nbformat_minor": 5
}
