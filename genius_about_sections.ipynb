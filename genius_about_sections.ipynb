{
 "cells": [
  {
   "cell_type": "markdown",
   "id": "544956c5",
   "metadata": {},
   "source": [
    "# Genius Lyrics About Section\n",
    "##### Web scraping the about sections from Genius Lyrics for artists' most popular songs"
   ]
  },
  {
   "cell_type": "markdown",
   "id": "cf54b948",
   "metadata": {},
   "source": [
    "### Import Statements"
   ]
  },
  {
   "cell_type": "code",
   "execution_count": 5,
   "id": "ba653d4f",
   "metadata": {},
   "outputs": [],
   "source": [
    "import requests\n",
    "from bs4 import BeautifulSoup\n",
    "import pandas as pd"
   ]
  },
  {
   "cell_type": "markdown",
   "id": "a5faa70c",
   "metadata": {},
   "source": [
    "### Function to scrape the 'About' section for songs"
   ]
  },
  {
   "cell_type": "code",
   "execution_count": 6,
   "id": "40d81d41-e416-461a-b593-23982db18bb2",
   "metadata": {},
   "outputs": [],
   "source": [
    "def find_about(url):\n",
    "    response = requests.get(url)\n",
    "    # Return None if you get any error (200 means successful request)\n",
    "    if response.status_code != 200:\n",
    "        return None\n",
    "\n",
    "    soup = BeautifulSoup(response.text, 'html.parser')\n",
    "    # About section classes start with \"RichText__Container-oz284w-0\"\n",
    "    about_section = soup.find_all('div', class_='RichText__Container-oz284w-0')\n",
    "    \n",
    "    # Getting the text from the about sections \n",
    "    if about_section:\n",
    "        text = about_section[0].get_text(strip=True)\n",
    "    else:\n",
    "        text = None\n",
    "    \n",
    "    return text"
   ]
  },
  {
   "cell_type": "markdown",
   "id": "ff005503",
   "metadata": {},
   "source": [
    "### Function to find an artist's most popular songs"
   ]
  },
  {
   "cell_type": "code",
   "execution_count": 7,
   "metadata": {},
   "outputs": [],
   "source": [
    "def song_names(artist):\n",
    "    format_artist = artist.lower().replace(\" \", \"-\")\n",
    "    url_artist = f\"https://genius.com/artists/{format_artist}\"\n",
    "    song_list = []\n",
    "    response = requests.get(url_artist)\n",
    "    \n",
    "    # Return None if you get any error (200 means successful request)\n",
    "    if response.status_code != 200:\n",
    "        return None\n",
    "\n",
    "    soup = BeautifulSoup(response.text, 'html.parser')\n",
    "        # About section classes are titled \"mini_card-title\"\n",
    "    song_titles = soup.find_all('div', class_='mini_card-title', limit=11)\n",
    "    \n",
    "    for title in song_titles:\n",
    "        song_text = title.get_text(strip=True)\n",
    "        song_list.append({\"song\": song_text, \"artist\": artist.lower()})\n",
    "    \n",
    "    return song_list"
   ]
  },
  {
   "cell_type": "markdown",
   "id": "c06fafdd",
   "metadata": {},
   "source": [
    "### Running the code"
   ]
  },
  {
   "cell_type": "code",
   "execution_count": 8,
   "id": "8612f0cd-3265-4bc9-9905-c440861c58ac",
   "metadata": {},
   "outputs": [
    {
     "name": "stdout",
     "output_type": "stream",
     "text": [
      "The 'About' section for 'Spotless' by 'the lumineers' could not be found.\n",
      "The 'About' section for 'Donna' by 'the lumineers' could not be found.\n",
      "The 'About' section for 'Change (In the House of Flies)' by 'deftones' could not be found.\n",
      "The 'About' section for 'Be Quiet and Drive (Far Away)' by 'deftones' could not be found.\n",
      "The 'About' section for 'My Own Summer (Shove It)' by 'deftones' could not be found.\n",
      "The 'About' section for 'Paint It, Black' by 'the rolling stones' could not be found.\n",
      "The 'About' section for 'You Can't Always Get What You Want' by 'the rolling stones' could not be found.\n",
      "The 'About' section for '(I Can't Get No) Satisfaction' by 'the rolling stones' could not be found.\n",
      "The 'About' section for 'She's a Rainbow' by 'the rolling stones' could not be found.\n",
      "The 'About' section for 'A&W' by 'lana del rey' could not be found.\n",
      "The 'About' section for 'Snow On The Beach' by 'lana del rey' could not be found.\n",
      "The 'About' section for 'Why Are Sundays So Depressing?' by 'the strokes' could not be found.\n",
      "The 'About' section for 'The Kids Don't Wanna Come Home' by 'declan mckenna' could not be found.\n",
      "The 'About' section for 'Will We Talk?' by 'sam fender' could not be found.\n",
      "The 'About' section for 'You're Not the Only One' by 'sam fender' could not be found.\n",
      "The 'About' section for 'You're in Love with a Psycho' by 'kasabian' could not be found.\n",
      "The 'About' section for 'Ill Ray (The King)' by 'kasabian' could not be found.\n",
      "The 'About' section for 'L.S.F. (Lost Souls Forever)' by 'kasabian' could not be found.\n",
      "The 'About' section for 'Cherry Wine (Live)' by 'hozier' could not be found.\n",
      "The 'About' section for 'Almost (Sweet Music)' by 'hozier' could not be found.\n",
      "The 'About' section for 'You’re Gonna Go Far' by 'noah kahan' could not be found.\n",
      "The 'About' section for 'Your Needs, My Needs' by 'noah kahan' could not be found.\n",
      "The 'About' section for 'On the Floor' by 'pitbull' could not be found.\n",
      "The 'About' section for 'DJ Got Us Fallin' in Love' by 'pitbull' could not be found.\n",
      "The 'About' section for 'We Are One (Ole Ola)' by 'pitbull' could not be found.\n",
      "                       artist                    song  \\\n",
      "0   Catfish and the bottlemen                       7   \n",
      "1   Catfish and the bottlemen                  Cocoon   \n",
      "7   Catfish and the bottlemen                 Fallout   \n",
      "6   Catfish and the bottlemen                Homesick   \n",
      "5   Catfish and the bottlemen               Hourglass   \n",
      "..                        ...                     ...   \n",
      "52                The strokes                Reptilia   \n",
      "53                The strokes                Selfless   \n",
      "50                The strokes                 Someday   \n",
      "49                The strokes  The adults are talking   \n",
      "56                The strokes          The modern age   \n",
      "\n",
      "                                                about  \n",
      "0   “7” is the second single released fromCatfish ...  \n",
      "1   “Cocoon” is about a guy who falls in love with...  \n",
      "7   Falloutis the 4th track off of Catfish and the...  \n",
      "6   “Homesick” is the opening track fromCatfish an...  \n",
      "5   Sung from a female’s perspective (presumably V...  \n",
      "..                                                ...  \n",
      "52  The title “Reptilia” refers to the “reptilian ...  \n",
      "53  “Selfless” is centered around love and relatio...  \n",
      "50  “Someday” was the third single fromIs This It....  \n",
      "49  “The Adults Are Talking” is the opening track ...  \n",
      "56  “The Modern Age” was one of three tracks inclu...  \n",
      "\n",
      "[125 rows x 3 columns]\n"
     ]
    }
   ],
   "source": [
    "def main():\n",
    "    count = int(input(\"How many artists would you like to learn about? \"))\n",
    "    data = [] \n",
    "\n",
    "    for _ in range(count):\n",
    "        artist = input(\"Enter the artist's name: \").strip()\n",
    "        top_songs = song_names(artist)\n",
    "\n",
    "        if top_songs is None:\n",
    "            print(f\"Could not retrieve songs for {artist}.\")\n",
    "            continue\n",
    "\n",
    "        for song_info in top_songs:\n",
    "            format_artist = song_info['artist'].replace(\" \", \"-\")\n",
    "            format_song = song_info['song'].lower().replace(\" \", \"-\")\n",
    "            url = f\"https://genius.com/{format_artist}-{format_song}-lyrics\"\n",
    "            \n",
    "            text = find_about(url)\n",
    "\n",
    "            if text is None:\n",
    "                print(f\"The 'About' section for '{song_info['song']}' by '{artist}' could not be found.\")\n",
    "            else:\n",
    "                data.append({\n",
    "                    \"artist\": artist.capitalize(),\n",
    "                    \"song\": song_info['song'].capitalize(),\n",
    "                    \"about\": text\n",
    "                })\n",
    "    \n",
    "    # Create DataFrame and export as CSV\n",
    "    df = pd.DataFrame(data)\n",
    "    df = df.sort_values(by=['artist', 'song'])\n",
    "    print(df)\n",
    "    df.to_csv('song_information.csv', index=False, encoding='utf-8')\n",
    "\n",
    "if __name__ == \"__main__\":\n",
    "    main()"
   ]
  },
  {
   "cell_type": "code",
   "execution_count": null,
   "id": "c79cf71d",
   "metadata": {},
   "outputs": [],
   "source": []
  }
 ],
 "metadata": {
  "kernelspec": {
   "display_name": "Python 3",
   "language": "python",
   "name": "python3"
  },
  "language_info": {
   "codemirror_mode": {
    "name": "ipython",
    "version": 3
   },
   "file_extension": ".py",
   "mimetype": "text/x-python",
   "name": "python",
   "nbconvert_exporter": "python",
   "pygments_lexer": "ipython3",
   "version": "3.11.5"
  }
 },
 "nbformat": 4,
 "nbformat_minor": 5
}
